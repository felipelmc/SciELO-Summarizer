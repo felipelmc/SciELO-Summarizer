{
  "cells": [
    {
      "cell_type": "code",
      "execution_count": 12,
      "metadata": {
        "id": "HZkPpvttW5XZ"
      },
      "outputs": [],
      "source": [
        "from bs4 import BeautifulSoup\n",
        "import requests\n",
        "import pandas as pd\n",
        "import numpy as np\n",
        "from tqdm import tqdm\n",
        "import time\n",
        "\n",
        "tqdm.pandas()"
      ]
    },
    {
      "cell_type": "code",
      "execution_count": 13,
      "metadata": {
        "id": "CLbpVzktYc2T"
      },
      "outputs": [],
      "source": [
        "url = 'https://search.scielo.org/'"
      ]
    },
    {
      "cell_type": "markdown",
      "metadata": {
        "id": "QIbiCUqV1f4p"
      },
      "source": [
        "Ano de publicação = (year_cluster:(*))\n",
        "\n",
        "Autor = (au:(*))\n",
        "\n",
        "Título = (ti:(*))\n",
        "\n",
        "Resumo = (ab:(*))\n",
        "\n"
      ]
    },
    {
      "cell_type": "markdown",
      "metadata": {
        "id": "IoQNneNiscv5"
      },
      "source": [
        "# Funções"
      ]
    },
    {
      "cell_type": "markdown",
      "metadata": {
        "id": "7E-0j8XUsjuY"
      },
      "source": [
        "## Requisição"
      ]
    },
    {
      "cell_type": "code",
      "execution_count": 14,
      "metadata": {
        "id": "Awydd0uXYdDv"
      },
      "outputs": [],
      "source": [
        "#Função para fazer a requisição e obter os dados\n",
        "def buscar_artigos(consulta, n_artigos_pg = 15, pg = 1, sorting=None, anos = None):\n",
        "    \"\"\"\n",
        "    Função para buscar artigos no site da SciELO.\n",
        "    Parâmetros:\n",
        "    - consulta: string          # termo ou termos de pesquisa\n",
        "    - n_artigos_pg: int         # número de artigos por página\n",
        "    - pg: int                   # número da página\n",
        "    - sorting: string           # critério de ordenação\n",
        "    - anos: int ou list of int  # anos de publicação dos artigos\n",
        "    \"\"\"\n",
        "\n",
        "    # Tratamento do parâmetro sorting\n",
        "    if sorting == 'Mais novos':\n",
        "        sorting = 'YEAR_DESC'\n",
        "    elif sorting == 'Mais antigos':\n",
        "        sorting = 'YEAR_ASC'\n",
        "    elif sorting == 'Mais relevantes':\n",
        "        sorting = 'RELEVANCE'\n",
        "    elif sorting == 'Mais citados':\n",
        "        sorting = 'CITED_DESC'\n",
        "    elif sorting == 'Mais acessados':\n",
        "        sorting = 'ACCESS_DESC'\n",
        "    elif sorting == None:\n",
        "        sorting = ''\n",
        "\n",
        "\n",
        "    params = {\n",
        "        \"q\": consulta,\n",
        "        \"lang\": \"pt\",\n",
        "        \"count\": n_artigos_pg,\n",
        "        \"output\": \"site\",\n",
        "        \"sort\": sorting,\n",
        "        \"format\": \"summary\",\n",
        "        \"page\": pg\n",
        "    }\n",
        "    if anos:\n",
        "        if isinstance(anos, list):\n",
        "            params.update({f\"filter[year_cluster][]\": ano} for ano in anos)\n",
        "        else:\n",
        "            params[f\"filter[year_cluster][]\"] = anos\n",
        "\n",
        "\n",
        "    response = requests.get(url, params=params)\n",
        "    if response.status_code == 200:\n",
        "        return response.text\n",
        "    else:\n",
        "        print(f\"Erro ao acessar a página: {response.status_code}\")\n",
        "        return None"
      ]
    },
    {
      "cell_type": "markdown",
      "metadata": {
        "id": "gnUaRWepsmvL"
      },
      "source": [
        "## Extrair dados da busca"
      ]
    },
    {
      "cell_type": "code",
      "execution_count": 15,
      "metadata": {
        "id": "6e_bmOVnYdGH"
      },
      "outputs": [],
      "source": [
        "def extrair_artigos(html):\n",
        "    \"\"\"\n",
        "    Função para extrair os dados dos artigos da página de busca.\n",
        "    Parâmetros:\n",
        "    - html: string\n",
        "    \"\"\"\n",
        "    # Parse do HTML\n",
        "    soup = BeautifulSoup(html, 'html.parser')\n",
        "\n",
        "    # Encontrar os elementos (divs) que contêm os dados dos artigos\n",
        "    artigos = soup.find_all('div', class_='item')\n",
        "\n",
        "    resultados = []\n",
        "    for artigo in artigos:\n",
        "        try:\n",
        "            # Encontrar e extrair o título\n",
        "            titulo_elem = artigo.find('strong', class_='title')\n",
        "            titulo = titulo_elem.text.strip() if titulo_elem else 'Título não encontrado'\n",
        "\n",
        "            # Encontrar e extrair o link\n",
        "            link_elem = artigo.find('a')\n",
        "            link = link_elem['href'] if link_elem else 'Link não encontrado'\n",
        "\n",
        "            # Encontrar e extrair o DOI\n",
        "            doi_elem = artigo.find('div', class_='line metadata')\n",
        "            if doi_elem:\n",
        "                doi_link_elem = doi_elem.find('a')\n",
        "                doi = doi_link_elem['href'] if doi_link_elem else 'DOI não encontrado'\n",
        "            else:\n",
        "                doi = 'DOI não encontrado'\n",
        "\n",
        "            # Encontrar e extrair o resumo\n",
        "            abstract_elem = artigo.find('div', id=lambda x: x and x.endswith('_pt'))\n",
        "            abstract = abstract_elem.text.strip() if abstract_elem else 'Resumo em português não encontrado'\n",
        "\n",
        "\n",
        "            # Encontrar e extrair os nomes dos autores\n",
        "            autores_elementos = artigo.find_all('a', class_='author')\n",
        "            autores = [autor.text for autor in autores_elementos]\n",
        "            if not autores:\n",
        "                autores.append('Autores não encontrados')\n",
        "\n",
        "            # Adicionar os dados ao DataFrame\n",
        "            resultados.append({\n",
        "                'titulo': titulo,\n",
        "                'autores': autores,\n",
        "                'doi': doi,\n",
        "                'link': link,\n",
        "                'resumo': abstract\n",
        "            })\n",
        "            df = pd.DataFrame(resultados)\n",
        "\n",
        "            # Remover duplicatas com base no título, mantendo apenas a primeira ocorrência\n",
        "            df = df.drop_duplicates(subset='titulo', keep='first')\n",
        "            df = df.reset_index(drop=True)\n",
        "\n",
        "        except AttributeError as e:\n",
        "            print(f\"Erro ao extrair artigo: {e}\")\n",
        "    return df"
      ]
    },
    {
      "cell_type": "markdown",
      "metadata": {
        "id": "uqedj7A1st4o"
      },
      "source": [
        "# Teste"
      ]
    },
    {
      "cell_type": "code",
      "execution_count": 16,
      "metadata": {
        "id": "zSlU9C4MYdIM"
      },
      "outputs": [],
      "source": [
        "\n",
        "consulta = '\"políticas públicas\" AND \"saúde\"'\n",
        "\n",
        "n_artigos_pg = 5\n",
        "    \n",
        "anos = (2012,2010)\n",
        "\n",
        "html = buscar_artigos(consulta, n_artigos_pg, sorting = 'Mais antigos')\n",
        "\n",
        "artigos = extrair_artigos(html)"
      ]
    },
    {
      "cell_type": "code",
      "execution_count": 17,
      "metadata": {
        "colab": {
          "base_uri": "https://localhost:8080/",
          "height": 195
        },
        "id": "GX4wMxeN2A86",
        "outputId": "901f05fb-c7f4-44a8-8000-fb006a36608f"
      },
      "outputs": [
        {
          "data": {
            "text/html": [
              "<div>\n",
              "<style scoped>\n",
              "    .dataframe tbody tr th:only-of-type {\n",
              "        vertical-align: middle;\n",
              "    }\n",
              "\n",
              "    .dataframe tbody tr th {\n",
              "        vertical-align: top;\n",
              "    }\n",
              "\n",
              "    .dataframe thead th {\n",
              "        text-align: right;\n",
              "    }\n",
              "</style>\n",
              "<table border=\"1\" class=\"dataframe\">\n",
              "  <thead>\n",
              "    <tr style=\"text-align: right;\">\n",
              "      <th></th>\n",
              "      <th>titulo</th>\n",
              "      <th>autores</th>\n",
              "      <th>doi</th>\n",
              "      <th>link</th>\n",
              "      <th>resumo</th>\n",
              "    </tr>\n",
              "  </thead>\n",
              "  <tbody>\n",
              "    <tr>\n",
              "      <th>0</th>\n",
              "      <td>Administração por convênios, um instrumento ge...</td>\n",
              "      <td>[Sá, Evelin Naked de Castro, Rabello, Maria Ce...</td>\n",
              "      <td>DOI não encontrado</td>\n",
              "      <td>http://www.scielo.br/scielo.php?script=sci_art...</td>\n",
              "      <td>Foi realizada análise dos 1.141 convênios vige...</td>\n",
              "    </tr>\n",
              "    <tr>\n",
              "      <th>1</th>\n",
              "      <td>Transição e movimentos sociais contribuição ao...</td>\n",
              "      <td>[Costa, Nilson do Rosário]</td>\n",
              "      <td>http://analytics.scielo.org/w/bibliometrics/do...</td>\n",
              "      <td>http://www.scielo.br/scielo.php?script=sci_art...</td>\n",
              "      <td>Estudo dedicado a analisar o desenvolvimento d...</td>\n",
              "    </tr>\n",
              "    <tr>\n",
              "      <th>2</th>\n",
              "      <td>Abordagem antropológica para avaliação de polí...</td>\n",
              "      <td>[Minayo, Maria Cecília de Souza]</td>\n",
              "      <td>http://analytics.scielo.org/w/bibliometrics/do...</td>\n",
              "      <td>http://www.scielo.br/scielo.php?script=sci_art...</td>\n",
              "      <td>Apresenta-se uma abordgem antropológica relati...</td>\n",
              "    </tr>\n",
              "  </tbody>\n",
              "</table>\n",
              "</div>"
            ],
            "text/plain": [
              "                                              titulo  \\\n",
              "0  Administração por convênios, um instrumento ge...   \n",
              "1  Transição e movimentos sociais contribuição ao...   \n",
              "2  Abordagem antropológica para avaliação de polí...   \n",
              "\n",
              "                                             autores  \\\n",
              "0  [Sá, Evelin Naked de Castro, Rabello, Maria Ce...   \n",
              "1                         [Costa, Nilson do Rosário]   \n",
              "2                   [Minayo, Maria Cecília de Souza]   \n",
              "\n",
              "                                                 doi  \\\n",
              "0                                 DOI não encontrado   \n",
              "1  http://analytics.scielo.org/w/bibliometrics/do...   \n",
              "2  http://analytics.scielo.org/w/bibliometrics/do...   \n",
              "\n",
              "                                                link  \\\n",
              "0  http://www.scielo.br/scielo.php?script=sci_art...   \n",
              "1  http://www.scielo.br/scielo.php?script=sci_art...   \n",
              "2  http://www.scielo.br/scielo.php?script=sci_art...   \n",
              "\n",
              "                                              resumo  \n",
              "0  Foi realizada análise dos 1.141 convênios vige...  \n",
              "1  Estudo dedicado a analisar o desenvolvimento d...  \n",
              "2  Apresenta-se uma abordgem antropológica relati...  "
            ]
          },
          "execution_count": 17,
          "metadata": {},
          "output_type": "execute_result"
        }
      ],
      "source": [
        "artigos"
      ]
    },
    {
      "cell_type": "code",
      "execution_count": 37,
      "metadata": {},
      "outputs": [
        {
          "data": {
            "text/plain": [
              "'http://www.scielo.br/scielo.php?script=sci_arttext&pid=S0034-89101988000200011&lang=pt'"
            ]
          },
          "execution_count": 37,
          "metadata": {},
          "output_type": "execute_result"
        }
      ],
      "source": [
        "artigos[\"link\"][0]"
      ]
    },
    {
      "cell_type": "markdown",
      "metadata": {
        "id": "xXt6w1FWxomM"
      },
      "source": [
        "## Extração do Artigo"
      ]
    },
    {
      "cell_type": "markdown",
      "metadata": {
        "id": "IhKJKflf2J2S"
      },
      "source": [
        "Passar por cada link na tabela e raspar o conteúdo de sua página.\n",
        "\n",
        ".articleSection"
      ]
    },
    {
      "cell_type": "code",
      "execution_count": 7,
      "metadata": {},
      "outputs": [],
      "source": [
        "import requests\n",
        "from bs4 import BeautifulSoup\n",
        "import time\n",
        "\n",
        "def extrair_secao_artigo(link):\n",
        "    \"\"\"\n",
        "    Extrai o texto da seção do artigo de uma página do SciELO.\n",
        "    Parâmetros:\n",
        "    - link: string\n",
        "    \"\"\"\n",
        "\n",
        "    try:\n",
        "        response = requests.get(link)\n",
        "        time.sleep(2)\n",
        "    \n",
        "        if response.status_code == 200:\n",
        "            soup = BeautifulSoup(response.content, 'html.parser')\n",
        "            conteudo_artigo = soup.find('div', class_='articleSection', attrs={'data-anchor': 'Text'})\n",
        "\n",
        "            if conteudo_artigo:\n",
        "                heading_tags = ['h1', 'h2', 'h3', 'h4', 'h5', 'h6']\n",
        "                special_tags = heading_tags + ['p']\n",
        "                headings = []\n",
        "\n",
        "                for tag in conteudo_artigo.find_all(special_tags):\n",
        "                    if tag.name in heading_tags:\n",
        "                        headings.append(tag)\n",
        "                    elif tag.name == 'p' and tag.find('b'):\n",
        "                        headings.append(tag.find('b'))\n",
        "                \n",
        "                sections = []\n",
        "                current_section = None\n",
        "\n",
        "                for heading in headings:\n",
        "                    if current_section:\n",
        "                        sections.append(current_section)\n",
        "                \n",
        "                    current_section = {\n",
        "                        'heading': heading.get_text(),\n",
        "                        'content': ''\n",
        "                    }\n",
        "\n",
        "                    # Use find_next_siblings within the parent context\n",
        "                    for sibling in heading.find_parent().find_next_siblings():\n",
        "                        if sibling.name in special_tags and (sibling.name in heading_tags or (sibling.name == 'p' and sibling.find('b'))):\n",
        "                            break\n",
        "                        if sibling.name == 'p':\n",
        "                            current_section['content'] += sibling.get_text(separator=' ', strip=True) + ' '\n",
        "                    \n",
        "                if current_section is not None:\n",
        "                    sections.append(current_section)\n",
        "                    \n",
        "                filtered_sections = [section for section in sections if section['heading'] not in ['RESUMO', 'ABSTRACT'] and len(section['content'].strip()) > 0]\n",
        "\n",
        "                return filtered_sections\n",
        "        else:\n",
        "            return 'Erro ao acessar a página'\n",
        "    \n",
        "    except requests.exceptions.RequestException as e:\n",
        "        return f'Erro de requisição: {str(e)}'\n",
        "    \n",
        "    except Exception as e:\n",
        "        return f'Erro: {str(e)}'"
      ]
    },
    {
      "cell_type": "code",
      "execution_count": 8,
      "metadata": {},
      "outputs": [],
      "source": [
        "def extrair_texto_completo(secoes):\n",
        "    \"\"\"\n",
        "    Extrai o texto completo dos artigos.\n",
        "    Parâmetros:\n",
        "    - df: DataFrame\n",
        "    \"\"\"\n",
        "\n",
        "    # Adicionar uma coluna ao DataFrame para armazenar o texto completo\n",
        "    texto_completo = ''\n",
        "    for secao in secoes:\n",
        "        texto_completo += f\"{secao['heading']}\\n{secao['content']}\\n\\n\"\n",
        "\n",
        "    return texto_completo"
      ]
    },
    {
      "cell_type": "code",
      "execution_count": 9,
      "metadata": {
        "colab": {
          "base_uri": "https://localhost:8080/"
        },
        "id": "4uFA4Ox4UelD",
        "outputId": "f06e0bdd-22d8-4fe4-cb47-07aa1c9fb284"
      },
      "outputs": [
        {
          "name": "stderr",
          "output_type": "stream",
          "text": [
            "100%|██████████| 3/3 [00:10<00:00,  3.63s/it]\n",
            "100%|██████████| 3/3 [00:00<00:00, 5572.59it/s]\n"
          ]
        }
      ],
      "source": [
        "artigos['secoes_dict'] = artigos['link'].progress_apply(extrair_secao_artigo)\n",
        "artigos['texto_completo'] = artigos['secoes_dict'].progress_apply(extrair_texto_completo)"
      ]
    },
    {
      "cell_type": "code",
      "execution_count": 11,
      "metadata": {},
      "outputs": [],
      "source": [
        "artigos.to_excel('artigos_scielo.xlsx', index=False)"
      ]
    },
    {
      "cell_type": "code",
      "execution_count": 41,
      "metadata": {},
      "outputs": [
        {
          "data": {
            "text/html": [
              "<div>\n",
              "<style scoped>\n",
              "    .dataframe tbody tr th:only-of-type {\n",
              "        vertical-align: middle;\n",
              "    }\n",
              "\n",
              "    .dataframe tbody tr th {\n",
              "        vertical-align: top;\n",
              "    }\n",
              "\n",
              "    .dataframe thead th {\n",
              "        text-align: right;\n",
              "    }\n",
              "</style>\n",
              "<table border=\"1\" class=\"dataframe\">\n",
              "  <thead>\n",
              "    <tr style=\"text-align: right;\">\n",
              "      <th></th>\n",
              "      <th>titulo</th>\n",
              "      <th>autores</th>\n",
              "      <th>doi</th>\n",
              "      <th>link</th>\n",
              "      <th>resumo</th>\n",
              "      <th>secoes_dict</th>\n",
              "      <th>texto_completo</th>\n",
              "    </tr>\n",
              "  </thead>\n",
              "  <tbody>\n",
              "    <tr>\n",
              "      <th>0</th>\n",
              "      <td>Administração por convênios, um instrumento ge...</td>\n",
              "      <td>[Sá, Evelin Naked de Castro, Rabello, Maria Ce...</td>\n",
              "      <td>DOI não encontrado</td>\n",
              "      <td>http://www.scielo.br/scielo.php?script=sci_art...</td>\n",
              "      <td>Foi realizada análise dos 1.141 convênios vige...</td>\n",
              "      <td>[{'heading': 'Evelin Naked de Castro SáI; Mari...</td>\n",
              "      <td>Evelin Naked de Castro SáI; Maria Celina Guima...</td>\n",
              "    </tr>\n",
              "    <tr>\n",
              "      <th>1</th>\n",
              "      <td>Transição e movimentos sociais contribuição ao...</td>\n",
              "      <td>[Costa, Nilson do Rosário]</td>\n",
              "      <td>http://analytics.scielo.org/w/bibliometrics/do...</td>\n",
              "      <td>http://www.scielo.br/scielo.php?script=sci_art...</td>\n",
              "      <td>Estudo dedicado a analisar o desenvolvimento d...</td>\n",
              "      <td>[{'heading': 'I - INTRODUÇÃO', 'content': ' À ...</td>\n",
              "      <td>I - INTRODUÇÃO\\n À medida que, nos últimos ano...</td>\n",
              "    </tr>\n",
              "    <tr>\n",
              "      <th>2</th>\n",
              "      <td>Abordagem antropológica para avaliação de polí...</td>\n",
              "      <td>[Minayo, Maria Cecília de Souza]</td>\n",
              "      <td>http://analytics.scielo.org/w/bibliometrics/do...</td>\n",
              "      <td>http://www.scielo.br/scielo.php?script=sci_art...</td>\n",
              "      <td>Apresenta-se uma abordgem antropológica relati...</td>\n",
              "      <td>[{'heading': 'Maria Cecília de Souza Minayo', ...</td>\n",
              "      <td>Maria Cecília de Souza Minayo\\n Departamento d...</td>\n",
              "    </tr>\n",
              "  </tbody>\n",
              "</table>\n",
              "</div>"
            ],
            "text/plain": [
              "                                              titulo  \\\n",
              "0  Administração por convênios, um instrumento ge...   \n",
              "1  Transição e movimentos sociais contribuição ao...   \n",
              "2  Abordagem antropológica para avaliação de polí...   \n",
              "\n",
              "                                             autores  \\\n",
              "0  [Sá, Evelin Naked de Castro, Rabello, Maria Ce...   \n",
              "1                         [Costa, Nilson do Rosário]   \n",
              "2                   [Minayo, Maria Cecília de Souza]   \n",
              "\n",
              "                                                 doi  \\\n",
              "0                                 DOI não encontrado   \n",
              "1  http://analytics.scielo.org/w/bibliometrics/do...   \n",
              "2  http://analytics.scielo.org/w/bibliometrics/do...   \n",
              "\n",
              "                                                link  \\\n",
              "0  http://www.scielo.br/scielo.php?script=sci_art...   \n",
              "1  http://www.scielo.br/scielo.php?script=sci_art...   \n",
              "2  http://www.scielo.br/scielo.php?script=sci_art...   \n",
              "\n",
              "                                              resumo  \\\n",
              "0  Foi realizada análise dos 1.141 convênios vige...   \n",
              "1  Estudo dedicado a analisar o desenvolvimento d...   \n",
              "2  Apresenta-se uma abordgem antropológica relati...   \n",
              "\n",
              "                                         secoes_dict  \\\n",
              "0  [{'heading': 'Evelin Naked de Castro SáI; Mari...   \n",
              "1  [{'heading': 'I - INTRODUÇÃO', 'content': ' À ...   \n",
              "2  [{'heading': 'Maria Cecília de Souza Minayo', ...   \n",
              "\n",
              "                                      texto_completo  \n",
              "0  Evelin Naked de Castro SáI; Maria Celina Guima...  \n",
              "1  I - INTRODUÇÃO\\n À medida que, nos últimos ano...  \n",
              "2  Maria Cecília de Souza Minayo\\n Departamento d...  "
            ]
          },
          "execution_count": 41,
          "metadata": {},
          "output_type": "execute_result"
        }
      ],
      "source": [
        "artigos"
      ]
    },
    {
      "cell_type": "code",
      "execution_count": 44,
      "metadata": {},
      "outputs": [
        {
          "data": {
            "text/plain": [
              "[{'heading': 'Maria Cecília de Souza Minayo',\n",
              "  'content': ' Departamento de Ciências Sociais da Escola Nacional de Saúde Pública da Fundação Oswaldo Cruz \\x97 Rio de Janeiro, RJ \\x97 Brasil  '},\n",
              " {'heading': 'Introdução',\n",
              "  'content': ' O presente artigo traz o debate no fórum, tanto da antropologia como da medicina social a utilização da abordagem antropológica para avaliação de programas de saúde. O principal ponto a ser sublinhado é que, na proposta em questão, a Antropologia sai de seu campo tradicional de pesquisa básica para se colocar, de forma interdisciplinar, com a medicina social e sob o enfoque da avaliação de políticas sociais. Portanto, ela propõe aqui o caráter prioritário de geração de teoria (ainda que o faça concomitantemente). Coloca-se a serviço de um processo social mais abrangente, cujo enfoque é dado pelo programa a ser avaliado, e ao qual serve com seus instrumentos peculiares de apreensão da realidade.  Objetiva-se no presente trabalho, mostrar que o encontro entre a antropologia, as políticas de saúde e as propostas teóricas de avaliação constitui-se de maneira promissora, embora não neutra ou insenta de contradições. A atividade da pesquisa é marcada durante toda a sua realização pelo quadro teórico que o pesquisador adota, por sua visão do mundo e compromisso social assim como pelos limites do conhecimento, próprios de seu tempo. Apesar disso, a proposta da abordagem antropológica para avaliação de programas de saúde coloca nas mãos daqueles que lidam com a Saúde Pública uma oportunidade para rever as tendências positivistas que têm dominado as investigações no campo epidemiológico e desta forma, tentar uma visão mais totalizante do fenômeno saúde-doença.  '},\n",
              " {'heading': 'A Abordagem Antropológica a Serviço da Avaliação em Saúde',\n",
              "  'content': ' A importância da antropologia para a compreensão do fenômeno saúde-doença é incontestável. Junto com os dados quantitativos e com o conhecimento técnico-científico das doenças, qualquer ação de prevenção, tratamento ou de planejamento de saúde necessita levar em conta valores, atitudes e crenças de uma população. A doença é tanto um fato clínico quanto um fenômeno sociológico. Ela exprime hoje e sempre um acontecimento biológico e individual e também uma angústia que pervaga o corpo social, confrontado com as turbulências do homem enquanto ser total. À medida que cristaliza e simboliza as maneiras como a sociedade vivência coletivamente seu medo da morte e seus limites frente ao mal, a doença importa tanto por seus efeitos imaginários: ambos são reais do ponto de vista antropológico. A doença é uma realidade construída e o doente é um personagem social. Portanto, tratar o fenômeno saúde-doença unicamente com os instrumentos anátomo-fisiológicos da medicina ou apenas com as medidas quantitativas da epidemiologia clássica constitui uma miopia frente ao social e uma falha no recorte da realidade a ser estudada.  Do ponto de vista antropológico, estudos (Mauss 9 ; Lévy-Strauss 7 ; Douglas 4 tem mostrado que os fenômenos saúde-doença informam sobre:  a) a visão de mundo do grupo social;  b) as atitudes coletivas face a infelicidade dominadora;  c) o rompimento do indivíduo com as normas e regras de sua sociedade, freqüentemente traduzidas em códigos morais e religiosos;  d) o encontro do homem com o que considera \"infeliz\" e \"alienante\" em sua sociedade.  Apesar de incontestável importância da antropologia, seu encontro com a medicina tem se dado em condições de subsidiariedade. Vários estudos a respeito da medicina social vêm registrando, de forma crítica, tanto a atuação dos antropólogos como seu lugar no campo da saúde. (Estrella 6 , 1985; Nunes 13 , 1985; Commaroff 3 , 1978). As questões mais freqüentemente colocadas são de duas naturezas:  a) de que o trabalho antropológico é uma atividade extremamente minuciosa, dispendiosa, pouco prática, inviabilizando-se, desta forma, a sua utilização no campo da saúde. Certamente essa observação procede em parte. A antropologia enquanto disciplina básica gera teoria e conhecimento não imediatamente referidos à prática. Para dar um exemplo dos trabalhos realizados sobre a antropologia médica referente à classe trabalhadora urbana no Brasil, todos de que temos conhecimento foram realizados no âmbito da academia. (Loyola 8 , 1983; Montero 12 , 1985; Duarte 5 , 1986). No entanto, ninguém que trabalha na área da medicina social, no país, hoje pode desconhecer o valor desses estudos na sua capacidade de desvendamento do real. São contribuições básicas tanto para a formação de sanitaristas quanto para a fundamentação de programas de saúde.  b) Outra crítica mais freqüente é de que a antropologia realiza uma tarefa subordinada, colocando-se a serviço das concepções hegemônicas da medicina legitimada. Chamada a explicar peculiaridades culturais ou para realizar levantamentos preliminares à aplicação de programas de saúde pública, a antropologia tem sido acusada de fornecer os instrumentos culturais para a manipulação e o controle do Estado sobre grupos sociais específicos. Realizando estudos sobre concepções indígenas, do campesinato ou das camadas de trabalhadores urbanos-imigrantes e de baixa renda a Antropologia é apontada como cúmplice da medicina oficial na imposição de seus códigos. (Estrella 6 , 1985).  Essa crítica certamente tem sua parte de razão, porque realmente a antropologia tem servido de estratégia para políticas \"colonialistas\" das mais diferentes espécies e aquela que estuda os fenômenos saúde-doença não constitui exceção. Estrella 6 (1985) chama atenção para várias formas de atuação de antropólogos na América Latina que justificam a acusação. No entanto, é necessário não confundir \"colonialismo\" com interesses reais dos grupos mais desfavorecidos sócioeconomicamente em nossa sociedade. Cremos que é tanto sua quanto nossa vontade, expressa e tácita, diminuir os índices de mortalidade, prevenir as doenças e promover a saúde. Partimos do princípio de que as aquisições da chamada \"medicina científica\" são um patrimônio da sociedade, da qual fazem parte todos os grupos sociais, toda a humanidade. Lutar contra a discriminação e a desigualdade na distribuição desse bem social faz parte do conceito de saúde como nos adverte Belinguer 1 (1978)  Ora, tal observação não legitima, do nosso ponto de vista, a destruição dos valores culturais dos grupos sociais pela imposição de códigos da medicina oficial. Pelo contrário, a compreensão da visão do mundo dos diferentes segmentos da sociedade pode ter outro destino que não seja o serviço à dominação, quando eles próprios passam a ser levados em conta na formulação das políticas, na sua gerência e na sua avaliação.  Portanto, contra o ponto de vista \"legitimador e utilitário\" (Estrella 6 , 1985), a oposição não pode ser a visão \"fenomenológica\" da recriação do mundo ideal dos atores sociais com seus valores, atitudes e hábitos intocados. É uma proposta que desconhece as contradições que penetram a vida social de quaisquer grupos e estratos sociais no mundo moderno. As propostas de compreensão da realidade por parte da antropologia têm que estar integradas num projeto maior de transformação, da qual ela faz parte, mas não é dona nem arauto. Seu papel (como o de qualquer ciência) não é neutro nem solitário. Seja como ciência básica, seja no campo da contribuição com outras práticas sociais, ela está submetida às contingências do tempo histórico e se insere nas correntes de pensamento de sua época.  Há uma pergunta que inquieta, portanto, o estudioso: há lugar para uma atividade antropológica no campo da saúde que esteja a serviço das populações-alvo dos programas governamentais?  A resposta poderia surgir dos mais diferentes enfoques. Scrimshaw e Hurtado 14 (1987) tentam encaminhar essa inquietação na busca de união entre o instrumental antropológico e a avaliação de programas de saúde. Suas pesquisas já socializadas pela aplicação em diversos países e pela reflexão coletiva dos que a estão experimentando propõem um desafio: \\x97 tornar rápidos, eficientes, de baixo custo e acessíveis os procedimentos clássicos da antropologia social para avaliação da Assistência primária à saúde.  A iniciativa acima leva a antropologia para o campo das políticas sociais e como tal, desloca o seu papel tradicional de disciplina básica para a área da pesquisa estratégica. Mais ainda, retira-a do contexto da descoberta primária para colocá-la no contexto da verificação, ainda que descoberta a verificação continuem inseparáveis tanto na pesquisa básica quanto na avaliação.  O mérito principal da proposta do RAP (Rapid Assessment Procedures), por Scrimshaw e Hurtado 14 , é de um lado tentar padronizar metodologicamente um instrumental usado freqüentemente apenas por iniciados, e torná-lo assim acessível a um grupo maior de pesquisadores; de outro, não banalizá-lo. Isto é, torná-lo de tal forma abrangente que possa ser submetido a critérios de validação, obedecida a finalidade da investigação. A triangulação, a submissão à comunidade dos pesquisadores, os seminários de trabalho e avaliação constituem instrumentos, nada desprezíveis na construções do conhecimento, aqui preconizados. Sua experiência se dá ao nível da assistência primária, mas pode ser extrapolada para outros programas.  O objetivo dos procedimentos antropológicos na avaliação da assistência primária são: \"as crenças, as percepções a respeito da saúde, a prevenção e o tratamento das doenças e a utilização dos recursos da medicina tradicional e da medicina oficial\". (Scrimshaw e Hurtado 14 , 1987).  O universo do trabalho de campo se limita a três categorias:  a) A comunidade \\x97 considerada aqui como uma organização social específica, ou seja, o aglomerado humano-espacial com sua dinâmica de vida, onde se realiza a pesquisa;  b) A família \\x97 um número limitado de 15 a 16 crianças de 0 a 5 anos;  c) A equipe de saúde encarregada da assistência primária: agentes, corpo médico, corpo de enfermagem, assistente social, educadores de saúde.  O roteiro de pesquisa tenta ser abrangente em relação ao universo:  Comunidade: características geográficas, demográficas, epidemiológicas, socioeconômicas. Recursos referentes à saúde, saneamento, educação e outros bens sociais.  Família: composição da família, condições de moradia, status socioeconômico, concepção de saúde-doença, doenças mais comuns nas crianças e forma de tratamento; alimentação e hábitos alimentares, dietas para crianças doentes, história de morbidade da família, inventário de remédios existentes na casa, história da gravidez e dos partos das mães, uso dos recursos de saúde: oficiais e tradicionais;  Equipe de Saúde: a organização da equipe, características físicas do centro de saúde, a sala de espera, a consulta, a distribuição de alimentos e o controle do desenvolvimento infantil, farmácias e acesso aos medicamentos; o tratamento da diarréia, a reidratação oral, o programa de imunizações; a interação médico-paciente.  Do nosso ponto de vista, a análise do material coletado (primário e secundário) não pode se limitar a oferecer apenas uma visão descritiva ou fenomenológica do tema em questão. Os significados e a situação da Assistência primária à saúde, referentes ao grupo pesquisado, necessitam ser vinculados a uma totalidade maior, pois não se trata de aglomerações isoladas. Pelo contrário, essas \"comunidades\" constituem-se de segmentos de classe com configurações específicas e participam estrutural e conjunturalmente das condições gerais de existência que o lugar no processo produtivo do país lhes confere. Noutras palavras, é necessário pensar suas condições de Saúde do ponto de vista individual ou coletivo como subordinados às formas como estão organizados no Brasil o sistema de saúde e o sistema socioeconômico.  Para dar um exemplo, nas pesquisas que realizamos (Minayo 10 , 1988) 2 2 Pesquisa realizada dentro de um trabalho da Universidade das Nações Unidas, para testagem do RAP (Rapid Assessment Procedures for Nutrition and Primary Health Care), finalizada em maio de 1988 e apresentada no \"International Workshop on RAP \\x97 Anthropological Approaches to Programme Improvement (UNU \\x97 UNICEF FORD FOUNDATION. Zagreb, July, 1988, 18-22)\". , a proposta da assistência primária esbarra, para um grande número de famílias, nos níveis de miséria absoluta. Medidas assistenciais do governo se tornam praticamente ineficazes quando encontram esses limites estruturais. Qualquer ação transformadora, portanto, transcende às atividades preconizadas no campo estrito da saúde. Da mesma forma, o centro de saúde faz parte de um sistema político, administrativo e burocrático muito mais amplo que condiciona suas ações com normas e regras hierarquicamente superiores.  O conhecimento dessas instâncias é importante e fundamental na avaliação. Não podemos aceitar uma visão mecânica e simplista que subordina o sentido de qualquer prática apenas aos determinismos estruturais. As relações sociais no interior das instituições, das classes e dos grupos são complexas, conflitivas, expressam interesses múltiplos e contraditórios. Portanto, esse marco referencial mais amplo, por si só, não dá conta da compreensão da micro-realidade: ela é específica. Porém os interesses e significados dos atores sociais a respeito de sua prática, a peculiaridade de sua visão de mundo que muda com a intervenção das propostas externas, mas que modifica também o conteúdo oficial dos programas, só pode ser entendida quando se coloca a base material estrita e ampla que lhe dá sustentação.  No que concerne ao campo das políticas sociais impõem-se algumas observações. Pesquisa em políticas públicas passou a significar, a partir da segunda Guerra Mundial, um foco de atividades científicas que têm implicações imediatas do ponto de vista da dominação e do controle do Estado. Isto é, há um interesse do Estado em conhecer, regular e controlar a sociedade civil. Trata-se, porém, de um campo de relações contraditórias e conflitivas em que os diferentes grupos sociais, através de diversas mediações, expressam seus interesses específicos. O conhecimento desse fato significa concluir que as investigações no setor podem ser conduzidas em múltiplas direções.  Bulmer 2 (1978), propõe para as pesquisas no setor de políticas sociais a denominação de \"estratégica\". Esse autor refuta a divisão tradicional entre \"pesquisa pura\" e \"pesquisa aplicada\" mostrando que o campo empírico das investigações exige uma classificação mais precisa e mais complexa. \"Pura ou Básica\" em oposição a \"Aplicada\" conota uma falsa dicotomia, na medida em que pesquisas teóricas podem ter importantes conseqüências práticas e vice-versa. O autor assinala cinco modalidades de pesquisa que não se contradizem, e cujos limites são dados por ênfases mais acentuadas em determinado aspecto:  a) Pesquisa básica ou pura;  b) Pesquisa estratégica;  c) Pesquisa-ação;  d) Pesquisa de inteligência;  e) Pesquisa operacional.  Por \"Pesquisa Estratégica\" entendemos aquela que se fundamenta nas teorias das ciências sociais, mas têm como principal objetivo esclarecer determinados aspectos da realidade para a ação das políticas públicas. Seus instrumentos são freqüentemente interdisciplinares e seus resultados se encaminham, para a solução de problemas. Ao contrário, as pesquisas básicas tradicionalmente se voltam para a construção da teoria e são marcadas pela interdisciplinaridade.  A introdução da antropologia no âmbito da saúde pública tem que incluir as características da abordagem antropológica e da pesquisa estratégica, trazendo para o campo da avaliação das políticas públicas, uma contribuição de sentido epistemológico e político.  Ao propor uma abordagem qualitativa para avaliação, a antropologia introduz de forma positiva a importância do \"subjetivo\" em qualquer abordagem do social, oferecendo instrumentos para sua apreensão. Desta forma, enquanto opera ao nível dos Significados a antropologia (nas suas mais diversas correntes) passa a questionar, pela contribuição que dá, os fundamentos do positivismo sociológico.  Sem negar a possibilidade de quantificar determinados dados da realidade, aponta para o problema fundamental das ciências sociais, que é o caráter específico de seu objetivo, que é sujeito e que se recusa peremptoriamente a se revelar apenas em número ou a se igualar com sua própria aparência.  É importante introduzir nos programas estabelecidos pela medicina oficial o ponto de vista dos grupos sociais-alvo, admitindo seu nível de racionalidade. Tendo como objeto-sujeito de seus estudos a cultura dos grupos dominados, em relação ao fenômeno saúde-doença, essas pesquisas contrapõem ao campo da dominação, a relativização das culturas, a lógica interna dos diferentes segmentos sociais, sua contribuição para a sociedade e os motivos de sua resistência ao que lhes é imposto. O respeito ao ponto de vista da população-alvo se dá, portanto, não como estratégia de dominação, mas para modificar os pontos de estrangulamento dos serviços a que ela tem direito e que deve reivindicar. É sobre esse objetivo que se redefine o conceito de política social: ela não é vista apenas como uma ação de estado em direção à população, mas como um direito para o qual ela deve opinar em termos de efetividade e qualidade.  Da perspectiva dos resultados da pesquisa, o material tem que estar em função do objetivo pretendido. Isto é, evitando-se a curiosidade científica como fim em si mesma, dar-se-á relevância aos estrangulamentos socioeconômicos, político-administrativos e de ordem ideológico-culturais que impedem o acesso da população aos benefícios da assistência primária à saúde.  Em lugar do feitiço dos números que costuma medir a eficácia dos produtos acabados nas avaliações convencionais, o estilo desta avaliação dá ênfase ao processo de aplicação dos programas e aqueles detalhes de contradição que costumam acompanhá-lo (Minayo Gomez 11 , 1984). Ou seja, o processo é feito de conjunção de fatos, de experiências e implica a presença de atores e forças que lutam, se contrapõem, se aliam e assim constroem a realidade. Processo conota movimento, mudança, direção, interação e intencionalidade. Parte do pressuposto de que todo projeto humano é inconcluso e pode ser superado, portanto envolve atuação dos agentes sociais participantes e do analista do processo social. Desta forma, os resultados advindos da avaliação são um produto processual histórico, não externo, mas do grupo e pode ser recuperado para ele e por ele em forma de um serviço de melhor qualidade.  '},\n",
              " {'heading': 'Comentários Finais',\n",
              "  'content': ' Exemplificaremos as idéias colocadas no texto com algumas conclusões a que chegamos na pesquisa realizada (Minayo 10 , 1988) numa área de moradia da população de baixa renda, no subúrbio do Rio de Janeiro. Conforme já esclarecemos, encaminhamos a análise para detectar os estrangulamentos na política de assistência primária à saúde e para o encaminhamento de propostas visando a melhoria do padrão de saúde do grupo social em questão.  Do ponto de vista do diagnóstico, a pesquisa apontou questões ao nível das condições gerais de vida, da orientação para cuidados de saúde e da forma de atuação do centro de saúde: centro de referência para assistência primária. Observamos, por exemplo, que para o grupo de famílias em estado de miséria absoluta e de fome endêmica a política da assistência primária encontra limites que transcendem ao conceito estrito de saúde. O desafio de ultrapassar as barreiras aí encontradas aponta para mudanças que envolvem, além da equipe de saúde, problemas de nível socioeconômico mais amplos.  Constatamos também que a questão do aleitamento materno é um tema a ser trabalhado através de esclarecimentos e de programas educativos, tendo-se em conta que a diarréia continua a ser a pior inimiga das crianças de 0 a 5 anos na área, particularmente durante o verão, enquanto a pneumonia é a segunda doença em termos de gravidade e incidência.  Em relação ao atendimento realizado na Unidade de referência, a pesquisa indica a importância de uma ação mais integrada com as necessidades concretas da população. E isso só pode ser atingido pela mudança organizacional que leve a equipe de saúde aos locais de moradia, e promova um inquérito epidemiológico com dados primários sobrevindos de fichas realizadas através de visitas domiciliares. Tal mudança poderia ser facilitada se o sistema de saúde integrasse na sua reflexão e programação, as agentes de saúde que atuam na localidade, mas cuja ação sofre um corte de continuidade em relação ao centro de referência.  Há outros pontos detectados que ajudam o encaminhamento das políticas de ação na localidade mas que podem ser aplicados mais amplamente. Notamos, por exemplo, que o grupo de famílias, cuja participação social nas organizações comunitárias é mais intensa, costuma ser privilegiado com os benefícios das políticas sociais. De qualquer forma, é um dado já do domínio dos estudiosos dos estratos sociais de baixa renda, que a participação comunitária supõe um nível mínimo de condições materiais de existência.  Outra constatação também importante em relação à realidade específica é a abertura das famílias em condições mínimas de sobrevivência asseguradas, às contribuições da medicina social. Não significa que suas práticas tradicionais tenham sido superadas. As famílias conseguem fazer uma combinação, a seu modo, entre as práticas médico-científicas e as crenças tradicionais em termos de uso de medicamentos, de chás, ervas, orações e ritos. De qualquer maneira não parece haver contradição, para eles, entre as propostas oficiais e suas práticas domésticas de medicina popular. O ponto de estrangulamento da assistência primária está particularmente nas condições materiais de existência de muitas famílias e na adequação da estrutura funcional da Unidade de referência à realidade da população, para vencer os limites até agora encontrados.  A exposição resumida dos pontos acima, tenta apenas exemplificar a linha de preocupações que, à luz dos dados, podem ser encaminhadas por uma avaliação antropológica. É óbvio que só um tipo de investigação qualitativa consegue levantar as questões que perpassam as diferenças entre as famílias, as contradições internas e os pontos de estrangulamento. É na combinação ou no confronto desses dados com os indicadores oficiais que podemos estabelecer os parâmetros de uma ação mais localizada, mais personalizada e em conjunto com a população a que se destina.  É necessário lembrar que a abordagem antropológica na avaliação de programas de saúde em si não é neutra. Cada pesquisador, dentro de seu marco teórico e tendo em vista sua própria visão de mundo, influencia tanto o processo investigativo como as conclusões de seu trabalho. A proposta de introduzir a antropologia, sobretudo na avaliação dos serviços, oferece instrumentos importantes para uma atividade que pode se reverter em melhoria do atendimento de saúde das populações-alvo.  Além disso, embora os resultados da pesquisa etnográfica sejam limitados e circunscritos aos grupos pesquisados, \\x97 podendo no entanto ser estendidos aqueles em condições socioeconômicas e culturais e acesso aos bens e serviços semelhantes \\x97 a abordagem antropológica na avaliação das políticas de saúde poderia ser generalizada. Certamente esse fato demandaria cuidados conceituais e metodológicos especiais. No entanto, sua contribuição daria qualidade aos indicadores sociais geralmente quantitativos e externos à realidade empírica, merecendo-se, portanto, um diálogo interdisciplinar entre antropólogos, sanitaristas e epidemiologistas.  '},\n",
              " {'heading': 'Referências Bibliográficas',\n",
              "  'content': ' 1. BERLINGUER, G. Medicina e política. São Paulo, Hucitec, 1978.  2. BULMER, M. Social policy research. London, Macmillan, 1978.  '},\n",
              " {'heading': '12B:',\n",
              "  'content': ' 4. DOUGLAS, M. Natural symbols. New York, Pantheon Books, 1971.  5. DUARTE, L.F. O nervoso na classe trabalhadora. Rio de Janeiro, Zahar Ed., 1986.  6. ESTRELLA, E. As contribuições da antropologia à pesquisa em saúde. In: Nunes, E.D., org. As ciências sociais em saúde na América Latina: tendências e perspectivas. Brasília, Organização Pan-Americana da Saúde, 1985. p. 159-73.  7. LÉVY-STRAUSS, C. Introdução à obra de Marcel Mauss. In: Mauss, M. Sociologia e antropologia. São Paulo, EPU/Ed. USP, 1974. p. 1-36.  8. LOYOLA, M.A. Médicos e curandeiros. São Paulo, DIFEL, 1984.  9. MAUSS, M. Sociologia e antropologia. São Paulo, EPU/Ed. USP, 1974.  10. MINAYO, M.C.S. Avaliação qualitativa da atenção primária à saúde numa favela do Rio de janeiro (RAP). Rio de Janeiro, 1988. Mimeografado. 3 3 Os interessados poderão obter o trabalho diretamente com a autora do presente artigo.  11. MINAYO GOMEZ, C. Reflexões em torno do processo de auto-avaliação institucional. In: Luvisolo, H.R., org. Avaliação em educação de adultos: temas e discussões. Rio de Janeiro, MOBRAL/OREALC, 1984. p. 111-22.  12. MONTERO, P. Da doença à desordem: a magia da umbanda. Rio de Janeiro, Ed. Graal, 1985.  13. NUNES, E.D.,org. As ciências sociais em saúde na América Latina: tendências e perspectivas. Brasília, Organização Pan-Americana da Saúde, 1985.  14. SCRIMSHAW, S. & HURTADO, E. Anthropological approaches for programmes improvement. Los Angeles, UCLA, 1987.  Recebido para publicação em 21/3/1990  Aprovado para publicação em 14/3/1991  Separatas/ Reprints: M.C. de S. Minayo \\x97 Rua Leopoldo Bulhões, 1480/304 \\x97 21041 \\x97 Rio de Janeiro, RJ \\x97 Brasil.   '}]"
            ]
          },
          "execution_count": 44,
          "metadata": {},
          "output_type": "execute_result"
        }
      ],
      "source": [
        "artigos[\"secoes_dict\"][2]"
      ]
    },
    {
      "cell_type": "code",
      "execution_count": 14,
      "metadata": {},
      "outputs": [
        {
          "data": {
            "text/plain": [
              "'http://www.scielosp.org/scielo.php?script=sci_arttext&pid=S0103-11042024000200203&lang=pt'"
            ]
          },
          "execution_count": 14,
          "metadata": {},
          "output_type": "execute_result"
        }
      ],
      "source": [
        "artigos[\"link\"][0]"
      ]
    },
    {
      "cell_type": "markdown",
      "metadata": {
        "id": "GYwtJw7fwEyK"
      },
      "source": [
        "- iterar pelas páginas ?\n",
        "- Pré processamento?\n",
        " - A partir da palavra Introdução ou INTRODUÇÂO remover todo texto anterior?\n"
      ]
    },
    {
      "cell_type": "code",
      "execution_count": null,
      "metadata": {
        "id": "_W4ehY3lw3hp"
      },
      "outputs": [],
      "source": [
        "import re\n",
        "\n",
        "def remover_palavras_anteriores(texto, palavra_chave):\n",
        "    # Encontrar a posição da palavra-chave ignorando maiúsculas/minúsculas\n",
        "    match = re.search(r'\\b' + re.escape(palavra_chave) + r'\\b', texto, re.IGNORECASE)\n",
        "\n",
        "    if match:\n",
        "        # Capturar o índice da palavra-chave encontrada\n",
        "        indice = match.start()\n",
        "\n",
        "        # Retornar a substring a partir do índice da palavra-chave\n",
        "        texto_limpo = texto[indice:]\n",
        "        return texto_limpo\n",
        "    else:\n",
        "        # Se a palavra-chave não for encontrada, retorna o texto original\n",
        "        return texto\n"
      ]
    },
    {
      "cell_type": "code",
      "execution_count": null,
      "metadata": {
        "colab": {
          "base_uri": "https://localhost:8080/",
          "height": 123
        },
        "id": "EsCTNYX8w8Mh",
        "outputId": "f5292d68-b8ed-47b9-f623-a62446607385"
      },
      "outputs": [
        {
          "data": {
            "application/vnd.google.colaboratory.intrinsic+json": {
              "type": "string"
            },
            "text/plain": [
              "'INTRODUÇÃO INTRODUÇÃO  O convênio é uma forma de colaboração, pela qual as instituições podem atingir parte de seus objetivos, sem a necessidade de aumentar sua capacidade instalada e pessoal permanente.  Convênio, vocábulo originário do latim \"cum + venire\", significa ação conjunta de aproximação, quase sinônimo de acordo \\x97 que sugere mais a idéia de superação de um conflito ou a preocupação de preveni-lo \\x97, e visa a construir as bases de uma colaboração mútua.  A administração por convênios como instrumento de execução de políticas públicas favorece, na função de administração, a participação periférica nos níveis centrais do poder público no sentido de abordar os assuntos sociais de forma técnica e organizada.  A Secretaria de Estado da Saúde de São Paulo vem adotando largamente o convênio como instrumento de execução de suas próprias finalidades, ou outras que lhe são delegadas, contando, no primeiro semestre de 1987, com cerca de 1.141 convênios, abrangendo um largo campo de atividades. Há convênios para: controle sanitário de alimentos; programas de saúde da mulher; controle de câncer; saúde mental; locação de leitos hospitalares; utilização de unidades para formação; estágio; treinamento e aperfeiçoamento de pessoal; integração docente-assistencial; auxílios a municípios carentes; ações integradas de saúde entre os níveis federal, estadual e municipal; administração de hospitais; pesquisa sobre reprodução humana; odontologia; hanseníase; dermatologia; tuberculose; intercâmbio de conhecimentos; vigilância e fiscalização sanitária de portos, aeroportos e limites geográficos da unidade federada; informática em saúde; fornecimento de sangue e hemoderivados; cooperação mútua em pesquisa; ensino; produção e prestação de serviços; atendimento a deficientes mentais, físicos, visuais e auditivos; execução e fiscalização de obras e reformas de unidades; controles de endemias; informações tóxico-farmacológicas; serviços de saúde para previdenciários; detecção de erros inatos de metabolismo e hipertireoidismo congênito; assistência médica a menores carentes, além de outros.  Como instrumento adequado para ação descentralizada, o convênio vem sendo utilizado com maior destaque em algumas políticas nas quais a capacidade instalada da Secretaria precisa ser suplementada pela ação ou operada em conjunto com outras instituições. Destacamos alguns: a) Ações Integradas de Saúde \\x97 AIS \\x97, que têm como propósito a descentralização, hierarquização, regionalização e municipalização das ações de saúde, visando a universalização do atendimento à comunidade. b) Ações Básicas de Saúde. c) Integração Docente Assistencial. d) Cooperação Mútua com Municípios para a prestação de assistência médico-sanitária. e) Saúde mental, por meio da adesão de outras instituições ao programa estabelecido pela Secretaria, seja em serviços ambulatoriais, seja pela locação de leitos. f) Instalação, reforma e construção de unidades.  Os convênios de Ações Integradas de Saúde, Ações Básicas de Saúde e Cooperação Mútua com Municípios tenderão a ser englobados para a implementação da política de municipalização de serviços de saúde, conforme as diretrizes do compromisso interinstitucional para o Sistema Unificado e Descentralizado de Saúde de São Paulo \\x97 SUDS e do Decreto n.° 27.140/87. Neste caso, o modelo de convênio para municipalização define as bases institucionais e operacionais da nova forma conveniada, cessando todos os demais convênios existentes com os municípios.  Quaisquer que sejam as políticas de saúde que venham a ser definidas pela Assembléia Nacional Constituinte \\x97 de preferência abordando aqueles aspectos recomendados na VIII Conferência Nacional de Saúde \\x97, é inegável que o instrumento convênio continuará a ter grande uso e utilidade na operacionalização das ações de saúde.  É previsível que haja grande incremento na celebração de convênios para cobrir a compra de serviços da capacidade instalada do setor privado, caso se concretize a política de municipalização dos serviços de saúde, a fim de incorporar recursos de atenção secundária e terciária à saúde.  O presente trabalho pretende fornecer elementos de análise que permitam melhor utilização do convênio como instrumento gerencial de políticas de saúde.  CARACTERIZAÇÃO DO INSTRUMENTO CARACTERIZAÇÃO DO INSTRUMENTO  O convênio vem sendo cada vez mais utilizado como instrumento de declaração de vontades no âmbito do setor público, que \"se encontram e se integram dirigindo-se a um objetivo comum e numa conjugação de interesses, (Grau, 1977)1. É celebrado entre pessoas jurídicas de espécies diferentes, conforme se verá na Tabela 2, onde são mostrados os convênios segundo entidades conveniadas.  Segundo Meirelles3 (1979), \"a ampliação das funções estatais, a complexidade e o custo das obras públicas vêm abalando, dia a dia, os fundamentos da administração clássica, exigindo novas formas e meios de prestação de serviços afetos ao Estado\".  A utilização ampla dos convênios vai envolver modificação na estrutura das organizações, pois \"evoluimos cronologicamente, dos serviços públicos centralizados para os serviços delegados a particulares; destes, passamos aos serviços autorizados a autarquias; daqui, defletimos para os serviços traspassados para entidades paraestatais e, finalmente, chegamos aos serviços de interesse recíproco de entidades públicas e organizações particulares realizados em mútua cooperação, sob a forma de convênios e consórcios administrativos\" (Meirelles3, 1979:373). \"E assim se faz porque, em muitos casos, já não basta só modificação instrutural da prestação de serviços na área de responsabilidade de uma Administração. Necessário se torna a sua ampliação territorial e a conjugação de recursos técnicos e financeiros de outros interessados na sua realização. Desse modo, se conseguem serviços de alto custo que jamais estariam ao alcance de uma administração menos abastada. Daí o surgimento dos convênios e consórcios administrativos\" (Meirelles3, 1979:374).  O instrumento convênio vai ter implicações na estrutura organizacional formal da Secretaria, demandando respostas adequadas para essa ação, pois \"Os convênios, entre nós, não adquirem personalidade jurídica, permanecendo como simples aquiescência dos partícipes, para a prossecução de objetivos comuns, o que nos leva a considerá-los, tão-somente, uma cooperação associativa, livre de vínculos contratuais. Essa instabilidade institucional, aliada à precariedade de sua administração, vem criando dificuldades insuperáveis para sua operatividade, principalmente no campo empresarial que exige pessoas e órgãos responsáveis para as contratações de grande vulto\" (Meirelles3, 1979:374).  OBJETIVOS OBJETIVOS  O presente trabalho tem por objetivos: \\x97 descrever o universo dos convênios vigentes na Secretaria de Estado da Saúde; \\x97 São Paulo, primeiro semestre de 1987, segundo número, objeto e entidades conveniadas; \\x97 analisar as tendências observadas na adoção do convênio como instrumento de execução de políticas públicas; \\x97 analisar as vantagens e dificuldades da administração por convênios; \\x97 fazer um ensaio de apreciação da expressão orçamentário-financeira da administração por convênios e das limitações apresentadas pela forma atual de orçar as despesas; \\x97 fornecer subsídios para o planejamento governamental de ações de saúde executadas por meio de convênios.  UNIVERSO DA PESQUISA UNIVERSO DA PESQUISA  O universo da pesquisa é o conjunto de 1.141 convênios e termos aditivos vigentes no primeiro semestre de 1987, celebrados pela Secretaria de Estado da Saúde, ou com sua interveniência, com várias entidades públicas e particulares, firmados entre 1983 e 1986. Não foram considerados aqui os consórcios e contratos que, embora com objetivos similares aos convênios, tenham tido essa caracterização jurídica. Foram incluídos convênios para programas de saúde mental que, por razões de formalidades burocrático-legais, foram posteriormente transformados em contratos.  A caracterização do universo apresentou certa dificuldade, pois os registros não são feitos cumulativamente, não há juntadas dos Termos de Aditamento aos convênios originais, havendo necessidade de correção e verificação processo a processo.  METODOLOGIA METODOLOGIA  Foram analisados 1.141 convênios vigentes, descritos no universo da pesquisa, a partir dos resumos publicados no \"Diário Oficial do Estado\" e constantes dos arquivos da Seção de Contratos e Convênios do Departamento de Administração da Secretaria de Estado da Saúde. Detalhamento de objetivos e verbas foram obtidos em outras unidades da Secretaria.  Os dados foram, a seguir, classificados tentativamente em blocos de objetivos similares que corresponderiam às funções da Secretaria de Estado para as quais se decidiu por uma política de exercício cooperativo por via de convênio. Verifica-se que alguns convênios têm, além do objetivo principal, um detalhamento sobre administração, controle e avaliação, o que permite uma nova perspectiva de análise, qual seja a existência de uma completa lista de atribuições das partes conveniadas.  A necessidade de classificação dos convênios em blocos homogêneos por objetivos levou-nos, em alguns casos, à supressão de detalhes dos convênios \\x97 extremamente úteis para outros estudos \\x97 e, em outros, ao imperativo de escolher entre um rótulo e outro. São exemplo disso, os convênios com municípios para execução de obras de construção, reforma ou ampliação de unidade e operação futura da mesma unidade; ou, ainda, os convênios para execução do programa de saúde mental, com locação de leitos.  Mesmo com essas ressalvas, o grupamento por objetivos similares permitiu identificar os blocos mais numerosos de convênios, para análise das tendências observadas na adoção do convênio como instrumento de execução de políticas públicas.  Foram feitas consultas aos orçamentos públicos e legislação de execução orçamentáriofinanceira para as informações quanto ao montante de recursos alocados para os convênios. Neste caso, só foi possível levantar alguns dados estimativos e que, comparativamente, permitiram inferir alguns custos de funções exercidas por convênios. Verificou-se que a maioria dos convênios acham-se classificados juntamente com outros tipos de despesas, seja na Classificação Funcional Progmatica, seja na classificação por Elemento Econômico. Exceção pode ser feita em alguns casos, como no dos convênios com hospitais para atendimento do programa de saúde mental, que têm uma classificação separada e, assim, uma dotação individualizada.  Na análise dos dados são discutidos alguns aspectos gerenciais ligados à execução dos convênios e às políticas públicas por eles desenvolvidas e a necessidade da Secretaria da Saúde dar resposta organizacional adequada à administração por convênios.  O CAMPO DOS CONVÊNIOS O CAMPO DOS CONVÊNIOS  A distribuição dos convênios pesquisados, segundo objetivos (Tabela 1) indica os diversos tipos de convênio em que se projetam as políticas de saúde desenvolvidas sob essa forma de administração, bem como ressalta a interligação operacional que necessariamente terá que ser considerada num planejamento integrado com as demais formas de atuação da Secretaria.  Do total dos convênios segundo a classificação observada nos 25 tipos de objetivos, destacamos, em primeiro plano (Tabela 1): os de Ações Integradas de Saúde (Convênio n.° 7/83) com 43,8%; Ações Básicas de Saúde, com 37%; Integração Municipal para reformas e ampliação de Centros de Saúde, com 2,9%, perfazendo cerca de 84% que envolvem a política de municipalização. Em segundo plano: Integração Docente Assistencial, com 2,4%; Locação de leitos/dias, com 5,4%; Saúde Mental, com 1,9%. Os outros dezoito tipos de objetivos são pouco expressivos na variedade inserida e contribuem para uma visão conjunta do leque que se experimentou em convênios como instrumento de políticas de saúde, o que não invalida sua importância.  Conforme já ressalvado na metodologia, a classificação por objetivos (Tabela 1) é meramente distributiva. Assim, alguns convênios foram firmados objetivando um atendimento de retaguarda hospitalar; outro para desenvolver o interesse pela pesquisa e planejamento conjunto em favor dos serviços à comunidade ou para o desenvolvimento de programas docentes assistenciais.  O Convênio n.° 7/83, por exemplo, tem como objetivo a articulação e integração programática entre os diversos serviços de saúde da assistência básica à saúde da população urbana e rural. Já em 1983, conforme Decreto n.° 21.415/83, foi elaborada minuta de convênio que antecedeu ao Convênio n.° 7/83. Aquele ampliou a cobertura à municipalização quanto à contratação de pessoal e, posteriormente, quando alterado pelo Decreto n.° 24.812/86, possibilitou a ampliação e reformas das unidades de saúde e a instalação de equipamentos na unidade.  Na área de saúde mental, os convênios visam a organização, o desenvolvimento e funcionamento de integração de atividades e serviços na área, seja ambulatorial, seja hospitalar.  Convém salientar aqueles que objetivam a organização e manutenção de serviços para coleta e sistematização de dados epidemiológicos junto às universidades.  Seguindo a tendência de descentralização e integração com municípios, o agrupamento de convênios com entidades conveniada (Tabela 2) indica maioria de Prefeituras, com cerca de 84% do total. Nesta tabela é que se pode verificar a atual abrangência interinstitucional dos convênios, ora com a interveniência dos Ministérios da Previdência e Assistência Social e do Ministério da Saúde, ora com a Secretaria como interveniente entre universidades e prefeituras.  Também é de se destacar o número de convênios celebrados com as Associações de Misericórdia \\x97 Santas Casas e outras associações de beneficência e assistência, significativo para operação conjunta, por exemplo, da política de locação de leitos hospitalares.  Os convênios com o Instituto de Assistência Médica do Servidor Público Estadual \\x97 IAMSPE \\x97 para prestação de assistência a previdenciários do Estado \\x97 oferecem uma característica especial para análise, pois referem-se a convênio que é celebrado com autarquia vinculada à própria Secretaria de Estado. Isso se repete no caso de convênios com os hospitais de ensino, com os Hospitais de Clínicas de São Paulo e de Ribeirão Preto, ligados à Universidade, mas que também são autarquias vinculadas à Secretaria da Saúde.  EXPRESSÃO ORÇAMENTÁRIO-FINANCEIRA DOS CONVÊNIOS EXPRESSÃO ORÇAMENTÁRIO-FINANCEIRA DOS CONVÊNIOS  Seria desejável que os convênios tivessem uma expressão orçamentário-financeira objetiva, de modo a permitir uma avaliação comparativa das ações exercidas. No entanto, isso só é feito de maneira ainda incipiente.  A inserção dos convênios no orçamento público do Estado de São Paulo tem vários aspectos, dos quais destacamos, pela objetividade de análise que permitem, a locação de despesas nos programas e subprogramas e os poucos itens orçamentários com dotações praticamente exclusivas para convênios. A partir destes, seria possível rastrear outros componentes importantes para a administração de convênios, tais como o acompanhamento e a supervisão da execução, a avaliação da eficiência e efetividade comparada das ações exercidas mediante convênio e as executadas dentro da dinâmica interna das unidades da própria Secretaria. Estes aspectos não serão abordados no presente trabalho, visto que são, presumivelmente, de grande complexidade.  Também é necessário ressalvar que a expressão orçamentário-financeira dos convênios envolve receitas e despesas, como no caso de convênios tripartites, em que a Secretaria recebe e faz o repasse de verbas federais para níveis e órgãos estaduais e municipais. No caso do Convênio n.° 7/83, de larga expressão, as verbas são repassadas diretamente do INAMPS para as Prefeituras e hospitais, mediante faturas de produção.  As despesas com a execução dos convênios têm sido alocadas nos orçamentos ora onerando classificação funcional programática própria, ora diluída entre outras despesas.  A classificação funcional programática, na qual está alocado o convênio, permite identificar o nível gerencial em que se situaria. Embora não expresse uma conotação transparente na análise global, a nível da lei orçamentária, o é a nível de delegação de competência para gerir o recurso.  São poucos os itens orçamentários capazes de indicar com exclusividade a execução conveniada de ações.  Assistência Médico-Hospitalar por terceiros, com dotação \\x97 1987 de Cz$ 34.206.929,00 e que tem a seguinte expressão orçamentária: 13) Função Saúde e Saneamento 75) Programa Saúde 428) Subprograma de atendimento médico-hospitalar 2.589) Atividade: assistência médico-hospitalar por terceiros  Convênios para execução de programas de Saúde mental, com dotação \\x97 1987 de Cz$ 687.571.588,00 para convênios com 45 entidades, no total de 8.003 leitos, com o objetivo de alocar leitos-dia e fazer a avaliação e controle do programa, que apresente a seguinte expressão orçamentária: 13) Função Saúde Saneamento 75) Programa Saúde 428) Subprograma de atendimento médido-hospitalar 2.742) Atividades: médico-hospitalar em saúde mental por terceiros  Transferencias a municípios, com dotação/87 de Cz$ 233.058.239,00, destinada exclusivamente a cobrir despesas conveniadas com os municípios e que tem as expressões orçamentárias próprias de cada atividade nos vários programas de saúde desenvolvidos pela Secretaria, identificáveis apenas pelo elemento econômico.  Também poder-se-ia usar como estimativa dos recursos administrados por convênio a programação a cargo do Fundo Estadual de Saúde. Neste caso, estão incluídas receitas e despesas numa conta gráfica que tem flexibilidade jurídica e atribuições amplas o bastante para cobrir praticamente todas as finalidades da Secretaria. Sua expressão orçamentário-financeira, 1987, é de Cz$ 1.879.660.397,00.  Depreende-se que na atual estrutura orçamentário-financeira não estão prontamente disponíveis, para tomada de decisões, as informações sobre ações por convênios. O planejamento, na Secretaria da Saúde, precisará inovar muito nessa área, dada a amplitude que está tomando a administração por convênios \\x97 se realmente deseja ultrapassar a fase de expressão orçamentária clássica e incrementalista.  ASPECTOS GERENCIAIS ASPECTOS GERENCIAIS  O convênio como instrumento de administração pública é da competência legal do Governador e, seguindo a hierarquia, cabem aos Secretários de Estado Termos de Adesão e Aditivos.  Acordados os partícipes, cabe a um deles ou a ambos o controle, a execução, a supervisão e o acompanhamento.  A Secretaria de Estado da Saúde de São Paulo, organizada nos anos 70 como órgão normativo do Governo do Estado, tem como função precipua promover a saúde, prevenir a doença, analisar os problemas de saúde pública e propor medidas visando à melhoria das condições sanitárias da população, bem como à recuperação da saúde.  Com a implementação da política de integração de serviços de saude, visando a universalizar o atendimento de saúde e instrumentando a participação inter e intra-institucional, a Secretaria foi reorganizada de modo que as ações administrativas de organizar, planejar, coordenar e executar foram redimensionadas, surgindo um modelo organizacional calcado no atendimento horizontal do sistema de saúde, orientando verticalmente, de forma ampla, flexível e hierarquizada, possibilitando uma integração de serviços integrados às várias especialidades e níveis de atendimento.  Desse modo, as atribuições dos órgãos centrais foram reorganizadas de forma a proporcionar o planejamento e avaliação, prevendo um comando único no sentido de oferecer procedimentos técnicos padronizados, ao mesmo tempo atendendo o universo dos Escritórios Regionais de Saúde \\x97 ERSAS, nas especialidades que se fizessem necessárias. Assim, os sistemas de informação, vigilância epidemiológica e sanitária, bem como os demais, deveriam estar aparelhados para ações diretas junto aos Escritórios Regionais, como também estava previsto para as comissões responsáveis pelas várias especialidades e demandas de serviços técnicos e áreas programáticas, de modo a poder oferecer opções para decisão e manutenção da autonomia pretendida para os citados ERSAS.  Portanto, se de um lado se propôs um atendimento horizontal e regional à população, por outro lado, dentro de um leque de opções e especializações de assistência à saúde, linhas mestras norteiam o sistema de saúde de forma padronizada.  Vale dizer que a regionalização administrativa da Secretaria gerou uma renovação nas funções de planejar e gerenciar as ações de saúde, definindo objetivos e metas, gerando informações e possibilitando maior demanda de tomadas de decisões a nível regional, caracterizando uma descentralização administrativa e o encaminhamento da municipalização das ações de saúde.  Em alguns casos, na área metropolitana de São Paulo, por exemplo, a instituição se organizou de forma sistemática, equacionando o gerenciamento dos níveis de assistência primária, secundária e até terciária, em módulos fechados de atendimento. Já, em outros casos, essas articulações deverão ser equacionadas pelas diretorias dos ERSAS, em sistemas abertos. Cabe notar que, sendo saúde uma área social, são convenientes sistemas abertos por permitirem maior participação das comunidades atendidas, devendo levar os administradores a adotarem formas adequadas de controle, supervisão e acompanhamento.  A reorganização da Secretaria possibilitou um novo estilo de gerenciamento, propondo aos ERSAS autonomia para planejar, coordenar, executar e controlar as ações de modo a promover um bom atendimento à população e segurança ao sistema.  No momento em que é divulgado um acordo interinstitucional para municipalização de serviços de saúde, é de se esperar profundas modificações na administração dos convênios, como por exemplo, no papel do ERSA frente a prefeituras municipais gestoras da rede de assistência primária.  A delegação do exercício de funções mediante convênios pode ser entendida como uma técnica e um recurso da administração, adaptados a situações estratégicas de priorizacão de algumas atividades e para as quais tenha se decidido politicamente uma execução externa ao aparelho administrativo disponível para a organização.  A administração, como ciência, vem evoluindo num crescendo entre tendências e escolas (Kwasnicka, 1981)2 sendo certo que os enfoques mais modernos indicam a necessidade de ultrapassar os pontos extremados daquelas escolas mais tradicionalmente voltadas para a administração pela administração. Mas também é verdadeiro que as tendências mais modernas têm revitalizado pontos importantes das escolas clássicas, adaptando-os aos novos enfoques.  Dentre as abordagens da administração, duas se mostram mais abrangentes para a análise da administração por convênios; são elas: a co-gestão e a teoria contingencial.  Co-gestão: a maioria dos convênios celebrados pela Secretaria e que têm por objeto, por exemplo, a integração docente-assistencial, as ações integradas de saúde, a execução conjunta e programas, e outros, contém dispositivos de divisão de atribuições e competências e dos papéis mutuamente previstos para as partes conveniadas. Tal divisão de trabalho com objetivo comum entre instituições, caracterizaria claramente uma co-gestão, se a adoção dos papéis fosse exercida. Alguns convênios têm tal grau de detalhamento nas obrigações das partes que se tornam documentos de organização do objetivo a ser administrado. Segundo Motta4 (1981), \"apenas no sentido analógico, o CTA assemelha-se à formação dos conselhos de co-gestão empresarial nos países onde realmente ela existe e funciona...\" \"... a co-gestão se passa nos Conselhos de Administração ou Supervisão nas empresas, trazendo uma participação paritária ou quase paritária entre o capital e o trabalho...\" \". . em se tratando de administração pública, a extensão de poderes organizacionais, aos profissionais e funcionários da instituição, deve ser examinada com um cuidado maior\" . \"Na Administração Pública, porém, a dimensão pública exige uma resposta às demandas e preferências comunitárias externas anterior e prioritária a qualquer participação de técnicos e funcionários internos. Senão, a dimensão tecnocrática e valores interiores prevaleceriam sobre as preferências públicas externas. Assim, a co-gestão, quando existir em administração pública, sempre deverá ser altamente subordinada aos órgãos superiores, que representem os interesses externos.\"  A realidade é bem outra, sendo grande a distância entre o acordo formal e o real exercício da coisa conveniada: são relatados a ausência de cobrança dos resultados dos convênios, o não aproveitamento pela Secretaria dos avanços tecnológicos e informações obtidas pelos executantes e a própria impossibilidade dos comandos da Secretaria poderem acompanhar a execução dos convênios em todos os seus termos.  A co-gestão é, ainda, considerada como sistema administrativo, como \"um esquema frágil, fundamentado que é em artifícios e escapismos para fugir das estruturas e regras implantadas no país para a administração pública da Saúde\". Finalmente, a co-gestão significa \"um esforço de integração e complementação, para solucionar conjuntamente problemas comuns a ambos os Ministérios, que a burocracia artificialmente repartia\" (Motta4, 1981).  Abordagem contingencial: Outro referencial teórico para a administração por convênios é o da escola contingencial, que tem como conceito de organização \"a prontidão em que a organização deve estar para acompanhar a evolução do seu ambiente\", e como natureza da solução, meios e fatores a \"interação empresa-ambiente, perfeito entrosamento entre as partes do sistema e os subsistemas de interação, adaptação e flexibilidade organizacional\" (Kwasnicka2, 1981).  COMENTÁRIOS FINAIS COMENTÁRIOS FINAIS  Tal como aconteceu com o convênio-modelo autorizado pelo Decreto n. 21.415/83, alterado pelo de n.° 24.812/86, é de presumir que também agora serão feitas adesões individualizadas pelos municípios, num processo que demandará algum tempo até consolidar-se, além de se levar em conta que a autonomia política do município não pode ser ignorada. Isso significa que poderá haver município que não queira o convênio ou que não o queira em dado momento.  Outros pontos importantes são as efetivas condições, bilateralmente, de assumirem o convênio em todos os seus itens. É da vivência profissional e didática dos autores a verificação de que municípios não tinham e ainda não têm implantados seus Conselhos e, siquer, órgão responsável previsto no acordo inicial.  À chamada \"municipalização\" \\x97 convênio-modelo baixado e autorizado pelo citado Decreto n.° 27.140/87 \\x97 aplicam-se as mesmas premissas, dificultadas ainda mais pelo alcance que se pretendeu dar à descentralização, envolvendo culturas organizacionais de três instituições: INAMPS, Secretaria da Saúde e Prefeituras.  Às dificuldades organizacionais de execução de um tão amplo universo de convênios somam-se as dificuldades próprias da vivência das reformas administrativas por parte da Secretaria de Estado da Saúde. Daí porque se torna atual situar novamente Meirelles3 (1979), destacando a necessidade de a Secretaria poder identificar com clareza quais as unidades de comandos que responderão pela execução dos convênios e que unidades utilizarão as informações para um planejamento integral que inclua as ações de convênio: \"A execução dos convênios tem ficado, comumente, a cargo de uma das entidades participantes, ou de comissão diretora. De qualquer forma o convênio permanece despersonalizado e sem órgão diretivo adequado. Diante desses inconvenientes, recomenda-se a organização de uma entidade civil ou comercial com a finalidade específica de dar execução aos termos de convênio, a qual receberá e aplicará os seus recursos nos fins estatutários, realizando diretamente obras e serviços desejados pelos partícipes, ou contratando-os com terceiros. Assim, o convênio manter-se-á com simples pacto de cooperação, mas disporá de uma pessoa jurídica que lhe dará execução, exercendo direitos e contratando obrigações em nome próprio e oferecendo as garantias peculiares de uma empresa.\"  O planejamento governamental estadual se vê atropelado pela evolução sistemática da reforma sanitária, passando pela necessidade de incrementar a recente reorganização administrativa a nível de região de governo, para formar a malha técnica que dê suficiente suporte à municipalização que tende a crescer rápida e descontinuadamente.  Com o convênio de municipalização absorvendo o Convênio n.° 7/83, e rescindindo os demais, é de se esperar modelos de avaliação que integrem ações comunitárias de acompanhamento.  Das ações conjuntas de operacionalização dos serviços básicos de saúde das universidades com a comunidade, espera-se sua participação como implementadoras dos serviços de saúde e afins, no seu campo de atuação.  As vantagens do convênio estão na utilização de uma estrutura formal, usando-se de técnicas gerenciais dinâmicas, que além de considerar as relações internas e externas à organização possibilitam mecanismos que possam adaptar e responder às situações que esses ambientes possam apresentar.  A desvantagem da administração por convênio está na diluição de responsabilidade distribuída pelos vários níveis de governo e mesmo dentre o mesmo nível, na execução das ações de saúde.  CONCLUSÕES CONCLUSÕES 1. O convênio é instrumento de larga utilização pela Secretaria de Estado da Saúde na execução de políticas públicas. 2. Sua adoção vem tendo incremento acelerado, envolvendo políticas públicas de saúde abrangentes dos três níveis de Governo. 3. Não são satisfatórios os mecanismos de acompanhamento e avaliação dos convênios, nem a contrapartida de ações que deveriam ser exercidas pela Secretaria. 4. A expressão orçamentário-financeira das receitas e despesas com convênios não traduz adequado planejamento dessas atividades. 5. A nova organização da Secretaria de Estado da Saúde de São Paulo está em fase de implantação, carecendo de capacitação concreta para administrar plenamente os convênios celebrados.  Recebido para publicação em: 4/9/1987  Reapresentado em: 4/2/1988  Aprovado para publicação em: 2/3/1988'"
            ]
          },
          "execution_count": 52,
          "metadata": {},
          "output_type": "execute_result"
        }
      ],
      "source": [
        "\n",
        "texto_original = artigos['secao_artigo'][0]\n",
        "palavra_chave = \"introdução\"\n",
        "\n",
        "texto_limpo = remover_palavras_anteriores(texto_original, palavra_chave)\n",
        "texto_limpo"
      ]
    },
    {
      "cell_type": "code",
      "execution_count": 58,
      "metadata": {},
      "outputs": [
        {
          "data": {
            "text/html": [
              "<div>\n",
              "<style scoped>\n",
              "    .dataframe tbody tr th:only-of-type {\n",
              "        vertical-align: middle;\n",
              "    }\n",
              "\n",
              "    .dataframe tbody tr th {\n",
              "        vertical-align: top;\n",
              "    }\n",
              "\n",
              "    .dataframe thead th {\n",
              "        text-align: right;\n",
              "    }\n",
              "</style>\n",
              "<table border=\"1\" class=\"dataframe\">\n",
              "  <thead>\n",
              "    <tr style=\"text-align: right;\">\n",
              "      <th></th>\n",
              "      <th>titulo</th>\n",
              "      <th>autores</th>\n",
              "      <th>doi</th>\n",
              "      <th>link</th>\n",
              "      <th>resumo</th>\n",
              "      <th>secoes_dict</th>\n",
              "      <th>texto_completo</th>\n",
              "    </tr>\n",
              "  </thead>\n",
              "  <tbody>\n",
              "    <tr>\n",
              "      <th>0</th>\n",
              "      <td>Administração por convênios, um instrumento ge...</td>\n",
              "      <td>[Sá, Evelin Naked de Castro, Rabello, Maria Ce...</td>\n",
              "      <td>DOI não encontrado</td>\n",
              "      <td>http://www.scielo.br/scielo.php?script=sci_art...</td>\n",
              "      <td>Foi realizada análise dos 1.141 convênios vige...</td>\n",
              "      <td>[{'heading': 'Evelin Naked de Castro SáI; Mari...</td>\n",
              "      <td>Evelin Naked de Castro SáI; Maria Celina Guima...</td>\n",
              "    </tr>\n",
              "    <tr>\n",
              "      <th>1</th>\n",
              "      <td>Transição e movimentos sociais contribuição ao...</td>\n",
              "      <td>[Costa, Nilson do Rosário]</td>\n",
              "      <td>http://analytics.scielo.org/w/bibliometrics/do...</td>\n",
              "      <td>http://www.scielo.br/scielo.php?script=sci_art...</td>\n",
              "      <td>Estudo dedicado a analisar o desenvolvimento d...</td>\n",
              "      <td>[{'heading': 'I - INTRODUÇÃO', 'content': ' À ...</td>\n",
              "      <td>I - INTRODUÇÃO\\n À medida que, nos últimos ano...</td>\n",
              "    </tr>\n",
              "    <tr>\n",
              "      <th>2</th>\n",
              "      <td>Abordagem antropológica para avaliação de polí...</td>\n",
              "      <td>[Minayo, Maria Cecília de Souza]</td>\n",
              "      <td>http://analytics.scielo.org/w/bibliometrics/do...</td>\n",
              "      <td>http://www.scielo.br/scielo.php?script=sci_art...</td>\n",
              "      <td>Apresenta-se uma abordgem antropológica relati...</td>\n",
              "      <td>[{'heading': 'Maria Cecília de Souza Minayo', ...</td>\n",
              "      <td>Maria Cecília de Souza Minayo\\n Departamento d...</td>\n",
              "    </tr>\n",
              "  </tbody>\n",
              "</table>\n",
              "</div>"
            ],
            "text/plain": [
              "                                              titulo  \\\n",
              "0  Administração por convênios, um instrumento ge...   \n",
              "1  Transição e movimentos sociais contribuição ao...   \n",
              "2  Abordagem antropológica para avaliação de polí...   \n",
              "\n",
              "                                             autores  \\\n",
              "0  [Sá, Evelin Naked de Castro, Rabello, Maria Ce...   \n",
              "1                         [Costa, Nilson do Rosário]   \n",
              "2                   [Minayo, Maria Cecília de Souza]   \n",
              "\n",
              "                                                 doi  \\\n",
              "0                                 DOI não encontrado   \n",
              "1  http://analytics.scielo.org/w/bibliometrics/do...   \n",
              "2  http://analytics.scielo.org/w/bibliometrics/do...   \n",
              "\n",
              "                                                link  \\\n",
              "0  http://www.scielo.br/scielo.php?script=sci_art...   \n",
              "1  http://www.scielo.br/scielo.php?script=sci_art...   \n",
              "2  http://www.scielo.br/scielo.php?script=sci_art...   \n",
              "\n",
              "                                              resumo  \\\n",
              "0  Foi realizada análise dos 1.141 convênios vige...   \n",
              "1  Estudo dedicado a analisar o desenvolvimento d...   \n",
              "2  Apresenta-se uma abordgem antropológica relati...   \n",
              "\n",
              "                                         secoes_dict  \\\n",
              "0  [{'heading': 'Evelin Naked de Castro SáI; Mari...   \n",
              "1  [{'heading': 'I - INTRODUÇÃO', 'content': ' À ...   \n",
              "2  [{'heading': 'Maria Cecília de Souza Minayo', ...   \n",
              "\n",
              "                                      texto_completo  \n",
              "0  Evelin Naked de Castro SáI; Maria Celina Guima...  \n",
              "1  I - INTRODUÇÃO\\n À medida que, nos últimos ano...  \n",
              "2  Maria Cecília de Souza Minayo\\n Departamento d...  "
            ]
          },
          "execution_count": 58,
          "metadata": {},
          "output_type": "execute_result"
        }
      ],
      "source": [
        "artigos"
      ]
    },
    {
      "cell_type": "markdown",
      "metadata": {},
      "source": [
        "- Filtrar tudo que vem antes de \"Introdução\" ou \"INTRODUÇÃO\" e depois de \"Referências\" ou \"REFERÊNCIAS\""
      ]
    },
    {
      "cell_type": "code",
      "execution_count": 90,
      "metadata": {},
      "outputs": [],
      "source": [
        "from transformers import pipeline\n",
        "import torch"
      ]
    },
    {
      "cell_type": "code",
      "execution_count": 91,
      "metadata": {},
      "outputs": [],
      "source": [
        "model_path = 'facebook/bart-large-cnn'\n",
        "summarization_model = pipeline('summarization', model=model_path, device=-1)"
      ]
    },
    {
      "cell_type": "code",
      "execution_count": 97,
      "metadata": {},
      "outputs": [],
      "source": [
        "def resumir_artigo(secoes, summarization_model):\n",
        "    for secao in secoes:\n",
        "        content = secao['content']\n",
        "        \n",
        "        if len(content) > 2000:\n",
        "            chunks = [content[i:i+2000] for i in range(0, len(content), 2000)]\n",
        "            summary_length = max(len(chunks) // 3, 1)\n",
        "            summaries = [summarization_model(chunk, max_length=summary_length, min_length = 10)[0]['summary_text'] for chunk in chunks]\n",
        "            secao['resumo'] = \" \".join(summaries)\n",
        "        else:\n",
        "            summary_length = max(len(content) // 3, 1)\n",
        "            secao['resumo'] = summarization_model(content, max_length=summary_length, min_length = 10)[0]['summary_text']\n",
        "    \n",
        "    resumo_completo = \" \".join(secao['resumo'] for secao in secoes)\n",
        "\n",
        "    return resumo_completo"
      ]
    },
    {
      "cell_type": "code",
      "execution_count": null,
      "metadata": {},
      "outputs": [],
      "source": []
    },
    {
      "cell_type": "code",
      "execution_count": 98,
      "metadata": {},
      "outputs": [
        {
          "name": "stderr",
          "output_type": "stream",
          "text": [
            "  0%|          | 0/3 [00:00<?, ?it/s]Token indices sequence length is longer than the specified maximum sequence length for this model (939 > 512). Running this sequence through the model will result in indexing errors\n",
            "100%|██████████| 3/3 [08:22<00:00, 167.46s/it]\n"
          ]
        }
      ],
      "source": [
        "artigos['resumo_llm'] = artigos['secoes_dict'].progress_apply(resumir_artigo)"
      ]
    },
    {
      "cell_type": "code",
      "execution_count": null,
      "metadata": {},
      "outputs": [],
      "source": []
    }
  ],
  "metadata": {
    "colab": {
      "provenance": []
    },
    "kernelspec": {
      "display_name": "Python 3",
      "name": "python3"
    },
    "language_info": {
      "codemirror_mode": {
        "name": "ipython",
        "version": 3
      },
      "file_extension": ".py",
      "mimetype": "text/x-python",
      "name": "python",
      "nbconvert_exporter": "python",
      "pygments_lexer": "ipython3",
      "version": "3.10.12"
    }
  },
  "nbformat": 4,
  "nbformat_minor": 0
}
