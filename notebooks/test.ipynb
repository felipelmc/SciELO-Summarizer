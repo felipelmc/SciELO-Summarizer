{
 "cells": [
  {
   "cell_type": "code",
   "execution_count": 1,
   "metadata": {},
   "outputs": [],
   "source": [
    "import sys\n",
    "sys.path.append('..')\n",
    "import utils"
   ]
  },
  {
   "cell_type": "code",
   "execution_count": 2,
   "metadata": {},
   "outputs": [],
   "source": [
    "html = utils.buscar_artigos(consulta='\"políticas públicas\" AND \"saúde\"',\n",
    "                            n_artigos_pg=5,\n",
    "                            sorting=\"Mais novos\")"
   ]
  },
  {
   "cell_type": "code",
   "execution_count": 3,
   "metadata": {},
   "outputs": [],
   "source": [
    "artigos = utils.extrair_artigos(html)"
   ]
  },
  {
   "cell_type": "code",
   "execution_count": 4,
   "metadata": {},
   "outputs": [
    {
     "data": {
      "text/html": [
       "<div>\n",
       "<style scoped>\n",
       "    .dataframe tbody tr th:only-of-type {\n",
       "        vertical-align: middle;\n",
       "    }\n",
       "\n",
       "    .dataframe tbody tr th {\n",
       "        vertical-align: top;\n",
       "    }\n",
       "\n",
       "    .dataframe thead th {\n",
       "        text-align: right;\n",
       "    }\n",
       "</style>\n",
       "<table border=\"1\" class=\"dataframe\">\n",
       "  <thead>\n",
       "    <tr style=\"text-align: right;\">\n",
       "      <th></th>\n",
       "      <th>titulo</th>\n",
       "      <th>autores</th>\n",
       "      <th>doi</th>\n",
       "      <th>link</th>\n",
       "      <th>resumo</th>\n",
       "    </tr>\n",
       "  </thead>\n",
       "  <tbody>\n",
       "    <tr>\n",
       "      <th>0</th>\n",
       "      <td>Occupational risks associated with chronic kid...</td>\n",
       "      <td>[Buralli, Rafael Junqueira, Albuquerque, Polia...</td>\n",
       "      <td>https://doi.org/10.1590/2175-8239-jbn-2023-0123en</td>\n",
       "      <td>http://www.scielo.br/scielo.php?script=sci_art...</td>\n",
       "      <td>Resumo Nas últimas décadas, uma epidemia de do...</td>\n",
       "    </tr>\n",
       "    <tr>\n",
       "      <th>1</th>\n",
       "      <td>O combate à fome na pandemia de covid-19: arra...</td>\n",
       "      <td>[Silva, Amanda Seraphico Carvalho Pereira da, ...</td>\n",
       "      <td>https://doi.org/10.1590/2358-289820241418694p</td>\n",
       "      <td>http://www.scielosp.org/scielo.php?script=sci_...</td>\n",
       "      <td>RESUMO O retorno e o agravamento da fome na pa...</td>\n",
       "    </tr>\n",
       "    <tr>\n",
       "      <th>2</th>\n",
       "      <td>Educação popular no SUS: desafios atuais no ol...</td>\n",
       "      <td>[Cruz, Pedro José Santos Carneiro, Brito, Pedr...</td>\n",
       "      <td>https://doi.org/10.1590/1413-81232024296.17132023</td>\n",
       "      <td>http://www.scielosp.org/scielo.php?script=sci_...</td>\n",
       "      <td>Resumo Este trabalho se propõe a trazer reflex...</td>\n",
       "    </tr>\n",
       "    <tr>\n",
       "      <th>3</th>\n",
       "      <td>Uma experiência precursora do SUS com a partic...</td>\n",
       "      <td>[Mazza, Débora, Aoki, Francisco Hideo, Santos,...</td>\n",
       "      <td>https://doi.org/10.1590/1413-81232024296.12032023</td>\n",
       "      <td>http://www.scielosp.org/scielo.php?script=sci_...</td>\n",
       "      <td>Resumo O texto desenvolve-se a partir de uma m...</td>\n",
       "    </tr>\n",
       "    <tr>\n",
       "      <th>4</th>\n",
       "      <td>Uso de agrotóxicos em canaviais de Pernambuco ...</td>\n",
       "      <td>[Domingues, Renata Cordeiro, Gurgel, Aline do ...</td>\n",
       "      <td>https://doi.org/10.1590/2358-289820241418714p</td>\n",
       "      <td>http://www.scielosp.org/scielo.php?script=sci_...</td>\n",
       "      <td>RESUMO O presente estudo teve por objetivo ana...</td>\n",
       "    </tr>\n",
       "  </tbody>\n",
       "</table>\n",
       "</div>"
      ],
      "text/plain": [
       "                                              titulo  \\\n",
       "0  Occupational risks associated with chronic kid...   \n",
       "1  O combate à fome na pandemia de covid-19: arra...   \n",
       "2  Educação popular no SUS: desafios atuais no ol...   \n",
       "3  Uma experiência precursora do SUS com a partic...   \n",
       "4  Uso de agrotóxicos em canaviais de Pernambuco ...   \n",
       "\n",
       "                                             autores  \\\n",
       "0  [Buralli, Rafael Junqueira, Albuquerque, Polia...   \n",
       "1  [Silva, Amanda Seraphico Carvalho Pereira da, ...   \n",
       "2  [Cruz, Pedro José Santos Carneiro, Brito, Pedr...   \n",
       "3  [Mazza, Débora, Aoki, Francisco Hideo, Santos,...   \n",
       "4  [Domingues, Renata Cordeiro, Gurgel, Aline do ...   \n",
       "\n",
       "                                                 doi  \\\n",
       "0  https://doi.org/10.1590/2175-8239-jbn-2023-0123en   \n",
       "1      https://doi.org/10.1590/2358-289820241418694p   \n",
       "2  https://doi.org/10.1590/1413-81232024296.17132023   \n",
       "3  https://doi.org/10.1590/1413-81232024296.12032023   \n",
       "4      https://doi.org/10.1590/2358-289820241418714p   \n",
       "\n",
       "                                                link  \\\n",
       "0  http://www.scielo.br/scielo.php?script=sci_art...   \n",
       "1  http://www.scielosp.org/scielo.php?script=sci_...   \n",
       "2  http://www.scielosp.org/scielo.php?script=sci_...   \n",
       "3  http://www.scielosp.org/scielo.php?script=sci_...   \n",
       "4  http://www.scielosp.org/scielo.php?script=sci_...   \n",
       "\n",
       "                                              resumo  \n",
       "0  Resumo Nas últimas décadas, uma epidemia de do...  \n",
       "1  RESUMO O retorno e o agravamento da fome na pa...  \n",
       "2  Resumo Este trabalho se propõe a trazer reflex...  \n",
       "3  Resumo O texto desenvolve-se a partir de uma m...  \n",
       "4  RESUMO O presente estudo teve por objetivo ana...  "
      ]
     },
     "execution_count": 4,
     "metadata": {},
     "output_type": "execute_result"
    }
   ],
   "source": [
    "artigos"
   ]
  },
  {
   "cell_type": "code",
   "execution_count": 5,
   "metadata": {},
   "outputs": [],
   "source": [
    "artigos[\"secoes\"] = artigos[\"link\"].apply(utils.extrair_secoes)"
   ]
  },
  {
   "cell_type": "code",
   "execution_count": 6,
   "metadata": {},
   "outputs": [],
   "source": [
    "artigos[\"texto_completo\"] = artigos[\"secoes\"].apply(utils.extrair_texto_completo)"
   ]
  },
  {
   "cell_type": "code",
   "execution_count": null,
   "metadata": {},
   "outputs": [],
   "source": [
    "artigos[\"resumo_secoes\"] = artigos[\"secoes\"].apply(utils.resumir_artigo_secoes)"
   ]
  },
  {
   "cell_type": "code",
   "execution_count": 7,
   "metadata": {},
   "outputs": [],
   "source": [
    "artigos[\"resumo_completo\"] = artigos[\"texto_completo\"].apply(utils.resumir_artigo_texto_completo)"
   ]
  }
 ],
 "metadata": {
  "kernelspec": {
   "display_name": "Python 3",
   "language": "python",
   "name": "python3"
  },
  "language_info": {
   "codemirror_mode": {
    "name": "ipython",
    "version": 3
   },
   "file_extension": ".py",
   "mimetype": "text/x-python",
   "name": "python",
   "nbconvert_exporter": "python",
   "pygments_lexer": "ipython3",
   "version": "3.10.12"
  }
 },
 "nbformat": 4,
 "nbformat_minor": 2
}
