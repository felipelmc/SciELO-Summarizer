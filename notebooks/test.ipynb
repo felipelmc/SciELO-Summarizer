{
 "cells": [
  {
   "cell_type": "code",
   "execution_count": 4,
   "metadata": {},
   "outputs": [],
   "source": [
    "import sys\n",
    "sys.path.append('..')\n",
    "import src.utils as utils"
   ]
  },
  {
   "cell_type": "code",
   "execution_count": 5,
   "metadata": {},
   "outputs": [],
   "source": [
    "html = utils.buscar_artigos(consulta='\"políticas públicas\" AND \"saúde\"',\n",
    "                            n_artigos_pg=1,\n",
    "                            sorting=\"Mais novos\")"
   ]
  },
  {
   "cell_type": "code",
   "execution_count": 6,
   "metadata": {},
   "outputs": [],
   "source": [
    "artigos = utils.extrair_artigos(html)"
   ]
  },
  {
   "cell_type": "code",
   "execution_count": 7,
   "metadata": {},
   "outputs": [
    {
     "data": {
      "text/html": [
       "<div>\n",
       "<style scoped>\n",
       "    .dataframe tbody tr th:only-of-type {\n",
       "        vertical-align: middle;\n",
       "    }\n",
       "\n",
       "    .dataframe tbody tr th {\n",
       "        vertical-align: top;\n",
       "    }\n",
       "\n",
       "    .dataframe thead th {\n",
       "        text-align: right;\n",
       "    }\n",
       "</style>\n",
       "<table border=\"1\" class=\"dataframe\">\n",
       "  <thead>\n",
       "    <tr style=\"text-align: right;\">\n",
       "      <th></th>\n",
       "      <th>titulo</th>\n",
       "      <th>autores</th>\n",
       "      <th>doi</th>\n",
       "      <th>link</th>\n",
       "      <th>resumo</th>\n",
       "    </tr>\n",
       "  </thead>\n",
       "  <tbody>\n",
       "    <tr>\n",
       "      <th>0</th>\n",
       "      <td>Occupational risks associated with chronic kid...</td>\n",
       "      <td>[Buralli, Rafael Junqueira, Albuquerque, Polia...</td>\n",
       "      <td>https://doi.org/10.1590/2175-8239-jbn-2023-0123en</td>\n",
       "      <td>http://www.scielo.br/scielo.php?script=sci_art...</td>\n",
       "      <td>Resumo Nas últimas décadas, uma epidemia de do...</td>\n",
       "    </tr>\n",
       "  </tbody>\n",
       "</table>\n",
       "</div>"
      ],
      "text/plain": [
       "                                              titulo  \\\n",
       "0  Occupational risks associated with chronic kid...   \n",
       "\n",
       "                                             autores  \\\n",
       "0  [Buralli, Rafael Junqueira, Albuquerque, Polia...   \n",
       "\n",
       "                                                 doi  \\\n",
       "0  https://doi.org/10.1590/2175-8239-jbn-2023-0123en   \n",
       "\n",
       "                                                link  \\\n",
       "0  http://www.scielo.br/scielo.php?script=sci_art...   \n",
       "\n",
       "                                              resumo  \n",
       "0  Resumo Nas últimas décadas, uma epidemia de do...  "
      ]
     },
     "execution_count": 7,
     "metadata": {},
     "output_type": "execute_result"
    }
   ],
   "source": [
    "artigos"
   ]
  },
  {
   "cell_type": "code",
   "execution_count": 8,
   "metadata": {},
   "outputs": [],
   "source": [
    "artigos[\"secoes\"] = artigos[\"link\"].apply(utils.extrair_secoes)"
   ]
  },
  {
   "cell_type": "code",
   "execution_count": 11,
   "metadata": {},
   "outputs": [
    {
     "data": {
      "text/plain": [
       "'http://www.scielo.br/scielo.php?script=sci_arttext&pid=S0101-28002024000300401&lang=pt'"
      ]
     },
     "execution_count": 11,
     "metadata": {},
     "output_type": "execute_result"
    }
   ],
   "source": [
    "artigos[\"link\"][0]"
   ]
  },
  {
   "cell_type": "code",
   "execution_count": 6,
   "metadata": {},
   "outputs": [],
   "source": [
    "artigos[\"texto_completo\"] = artigos[\"secoes\"].apply(utils.extrair_texto_completo)"
   ]
  },
  {
   "cell_type": "code",
   "execution_count": null,
   "metadata": {},
   "outputs": [],
   "source": [
    "artigos[\"resumo_secoes\"] = artigos[\"secoes\"].apply(utils.resumir_artigo_secoes)"
   ]
  },
  {
   "cell_type": "code",
   "execution_count": 7,
   "metadata": {},
   "outputs": [],
   "source": [
    "artigos[\"resumo_completo\"] = artigos[\"texto_completo\"].apply(utils.resumir_artigo_texto_completo)"
   ]
  }
 ],
 "metadata": {
  "kernelspec": {
   "display_name": "Python 3",
   "language": "python",
   "name": "python3"
  },
  "language_info": {
   "codemirror_mode": {
    "name": "ipython",
    "version": 3
   },
   "file_extension": ".py",
   "mimetype": "text/x-python",
   "name": "python",
   "nbconvert_exporter": "python",
   "pygments_lexer": "ipython3",
   "version": "3.10.12"
  }
 },
 "nbformat": 4,
 "nbformat_minor": 2
}
